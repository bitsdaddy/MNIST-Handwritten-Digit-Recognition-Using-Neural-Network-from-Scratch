{
 "cells": [
  {
   "cell_type": "markdown",
   "id": "3c3166aa",
   "metadata": {},
   "source": [
    "# MNIST Handwritten Digit Recognition Using Neural Network from Scratch\n",
    ">dataset link : https://www.kaggle.com/datasets/dillsunnyb11/digit-recognizer/data\n",
    "<br><br>"
   ]
  },
  {
   "cell_type": "markdown",
   "id": "cdff059e",
   "metadata": {},
   "source": [
    "<br>\n",
    "\n",
    "### Importing Libraries\n",
    "\n",
    "* `numpy` is used for numerical operations in Python.\n",
    "* `pandas` is used for data manipulation and analysis.\n",
    "* `matplotlib.pyplot` is used for creating visualizations.\n"
   ]
  },
  {
   "cell_type": "code",
   "execution_count": 1,
   "id": "538d3384",
   "metadata": {},
   "outputs": [],
   "source": [
    "import numpy as np\n",
    "import pandas as pd\n",
    "from matplotlib import pyplot as plt"
   ]
  },
  {
   "cell_type": "markdown",
   "id": "7a395488",
   "metadata": {},
   "source": [
    "<br>\n",
    "\n",
    "### Loading Data\n",
    "\n",
    "- Data is loaded from the CSV file 'data/data.csv' using `pd.read_csv`.\n"
   ]
  },
  {
   "cell_type": "code",
   "execution_count": 2,
   "id": "36805152",
   "metadata": {},
   "outputs": [],
   "source": [
    "data = pd.read_csv('data/data.csv')"
   ]
  },
  {
   "cell_type": "markdown",
   "id": "414e73f7",
   "metadata": {},
   "source": [
    "<br>\n",
    "\n",
    "### Displaying Training Data\n",
    "\n",
    "- The `head()` method is used to display the first few rows of the training data (`data`).\n"
   ]
  },
  {
   "cell_type": "code",
   "execution_count": 3,
   "id": "fa88a7e6",
   "metadata": {
    "scrolled": true
   },
   "outputs": [
    {
     "data": {
      "text/html": [
       "<div>\n",
       "<style scoped>\n",
       "    .dataframe tbody tr th:only-of-type {\n",
       "        vertical-align: middle;\n",
       "    }\n",
       "\n",
       "    .dataframe tbody tr th {\n",
       "        vertical-align: top;\n",
       "    }\n",
       "\n",
       "    .dataframe thead th {\n",
       "        text-align: right;\n",
       "    }\n",
       "</style>\n",
       "<table border=\"1\" class=\"dataframe\">\n",
       "  <thead>\n",
       "    <tr style=\"text-align: right;\">\n",
       "      <th></th>\n",
       "      <th>label</th>\n",
       "      <th>pixel0</th>\n",
       "      <th>pixel1</th>\n",
       "      <th>pixel2</th>\n",
       "      <th>pixel3</th>\n",
       "      <th>pixel4</th>\n",
       "      <th>pixel5</th>\n",
       "      <th>pixel6</th>\n",
       "      <th>pixel7</th>\n",
       "      <th>pixel8</th>\n",
       "      <th>...</th>\n",
       "      <th>pixel774</th>\n",
       "      <th>pixel775</th>\n",
       "      <th>pixel776</th>\n",
       "      <th>pixel777</th>\n",
       "      <th>pixel778</th>\n",
       "      <th>pixel779</th>\n",
       "      <th>pixel780</th>\n",
       "      <th>pixel781</th>\n",
       "      <th>pixel782</th>\n",
       "      <th>pixel783</th>\n",
       "    </tr>\n",
       "  </thead>\n",
       "  <tbody>\n",
       "    <tr>\n",
       "      <th>0</th>\n",
       "      <td>1</td>\n",
       "      <td>0</td>\n",
       "      <td>0</td>\n",
       "      <td>0</td>\n",
       "      <td>0</td>\n",
       "      <td>0</td>\n",
       "      <td>0</td>\n",
       "      <td>0</td>\n",
       "      <td>0</td>\n",
       "      <td>0</td>\n",
       "      <td>...</td>\n",
       "      <td>0</td>\n",
       "      <td>0</td>\n",
       "      <td>0</td>\n",
       "      <td>0</td>\n",
       "      <td>0</td>\n",
       "      <td>0</td>\n",
       "      <td>0</td>\n",
       "      <td>0</td>\n",
       "      <td>0</td>\n",
       "      <td>0</td>\n",
       "    </tr>\n",
       "    <tr>\n",
       "      <th>1</th>\n",
       "      <td>0</td>\n",
       "      <td>0</td>\n",
       "      <td>0</td>\n",
       "      <td>0</td>\n",
       "      <td>0</td>\n",
       "      <td>0</td>\n",
       "      <td>0</td>\n",
       "      <td>0</td>\n",
       "      <td>0</td>\n",
       "      <td>0</td>\n",
       "      <td>...</td>\n",
       "      <td>0</td>\n",
       "      <td>0</td>\n",
       "      <td>0</td>\n",
       "      <td>0</td>\n",
       "      <td>0</td>\n",
       "      <td>0</td>\n",
       "      <td>0</td>\n",
       "      <td>0</td>\n",
       "      <td>0</td>\n",
       "      <td>0</td>\n",
       "    </tr>\n",
       "    <tr>\n",
       "      <th>2</th>\n",
       "      <td>1</td>\n",
       "      <td>0</td>\n",
       "      <td>0</td>\n",
       "      <td>0</td>\n",
       "      <td>0</td>\n",
       "      <td>0</td>\n",
       "      <td>0</td>\n",
       "      <td>0</td>\n",
       "      <td>0</td>\n",
       "      <td>0</td>\n",
       "      <td>...</td>\n",
       "      <td>0</td>\n",
       "      <td>0</td>\n",
       "      <td>0</td>\n",
       "      <td>0</td>\n",
       "      <td>0</td>\n",
       "      <td>0</td>\n",
       "      <td>0</td>\n",
       "      <td>0</td>\n",
       "      <td>0</td>\n",
       "      <td>0</td>\n",
       "    </tr>\n",
       "    <tr>\n",
       "      <th>3</th>\n",
       "      <td>4</td>\n",
       "      <td>0</td>\n",
       "      <td>0</td>\n",
       "      <td>0</td>\n",
       "      <td>0</td>\n",
       "      <td>0</td>\n",
       "      <td>0</td>\n",
       "      <td>0</td>\n",
       "      <td>0</td>\n",
       "      <td>0</td>\n",
       "      <td>...</td>\n",
       "      <td>0</td>\n",
       "      <td>0</td>\n",
       "      <td>0</td>\n",
       "      <td>0</td>\n",
       "      <td>0</td>\n",
       "      <td>0</td>\n",
       "      <td>0</td>\n",
       "      <td>0</td>\n",
       "      <td>0</td>\n",
       "      <td>0</td>\n",
       "    </tr>\n",
       "    <tr>\n",
       "      <th>4</th>\n",
       "      <td>0</td>\n",
       "      <td>0</td>\n",
       "      <td>0</td>\n",
       "      <td>0</td>\n",
       "      <td>0</td>\n",
       "      <td>0</td>\n",
       "      <td>0</td>\n",
       "      <td>0</td>\n",
       "      <td>0</td>\n",
       "      <td>0</td>\n",
       "      <td>...</td>\n",
       "      <td>0</td>\n",
       "      <td>0</td>\n",
       "      <td>0</td>\n",
       "      <td>0</td>\n",
       "      <td>0</td>\n",
       "      <td>0</td>\n",
       "      <td>0</td>\n",
       "      <td>0</td>\n",
       "      <td>0</td>\n",
       "      <td>0</td>\n",
       "    </tr>\n",
       "  </tbody>\n",
       "</table>\n",
       "<p>5 rows × 785 columns</p>\n",
       "</div>"
      ],
      "text/plain": [
       "   label  pixel0  pixel1  pixel2  pixel3  pixel4  pixel5  pixel6  pixel7   \n",
       "0      1       0       0       0       0       0       0       0       0  \\\n",
       "1      0       0       0       0       0       0       0       0       0   \n",
       "2      1       0       0       0       0       0       0       0       0   \n",
       "3      4       0       0       0       0       0       0       0       0   \n",
       "4      0       0       0       0       0       0       0       0       0   \n",
       "\n",
       "   pixel8  ...  pixel774  pixel775  pixel776  pixel777  pixel778  pixel779   \n",
       "0       0  ...         0         0         0         0         0         0  \\\n",
       "1       0  ...         0         0         0         0         0         0   \n",
       "2       0  ...         0         0         0         0         0         0   \n",
       "3       0  ...         0         0         0         0         0         0   \n",
       "4       0  ...         0         0         0         0         0         0   \n",
       "\n",
       "   pixel780  pixel781  pixel782  pixel783  \n",
       "0         0         0         0         0  \n",
       "1         0         0         0         0  \n",
       "2         0         0         0         0  \n",
       "3         0         0         0         0  \n",
       "4         0         0         0         0  \n",
       "\n",
       "[5 rows x 785 columns]"
      ]
     },
     "execution_count": 3,
     "metadata": {},
     "output_type": "execute_result"
    }
   ],
   "source": [
    "data.head()"
   ]
  },
  {
   "cell_type": "markdown",
   "id": "746aaa18",
   "metadata": {},
   "source": [
    "<br>\n",
    "\n",
    "### Preprocessing Data\n",
    "\n",
    "- Convert the entire dataset (`data`) to a NumPy array using `np.array()`.\n",
    "- Get the dimensions of the dataset as `m` (number of examples) and `n` (number of features).\n",
    "- Shuffle the dataset using `np.random.shuffle()` before splitting into test and training sets.\n",
    "- Transpose the first 1000 examples of the shuffled dataset (`data_test`) and extract labels (`Y_test`) and features (`X_test`).\n",
    "- Normalize the pixel values in `X_test` by dividing by 255.\n",
    "- Transpose the remaining examples of the shuffled dataset (`data_train`) and extract labels (`Y_train`) and features (`X_train`).\n",
    "- Normalize the pixel values in `X_train` by dividing by 255.\n",
    "- Get the dimensions of the transposed training data as `_` (ignored variable) and `m_train` (number of examples in the training set).\n"
   ]
  },
  {
   "cell_type": "code",
   "execution_count": 4,
   "id": "18ae2e67",
   "metadata": {},
   "outputs": [],
   "source": [
    "data = np.array(data)\n",
    "m, n = data.shape\n",
    "np.random.shuffle(data) # shuffle before splitting into test and training sets\n",
    "\n",
    "data_test = data[0:1000].T\n",
    "Y_test = data_test[0]\n",
    "X_test = data_test[1:n]\n",
    "X_test = X_test / 255.\n",
    "\n",
    "data_train = data[1000:m].T\n",
    "Y_train = data_train[0]\n",
    "X_train = data_train[1:n]\n",
    "X_train = X_train / 255.\n",
    "_,m_train = X_train.shape"
   ]
  },
  {
   "cell_type": "markdown",
   "id": "e2ee8e1b",
   "metadata": {},
   "source": [
    "<br>\n",
    "\n",
    "### Training Labels\n",
    "\n",
    "- `Y_train` contains the labels for the training examples.\n"
   ]
  },
  {
   "cell_type": "code",
   "execution_count": 5,
   "id": "a2b4d9a2",
   "metadata": {},
   "outputs": [
    {
     "data": {
      "text/plain": [
       "array([6, 4, 6, ..., 5, 0, 2], dtype=int64)"
      ]
     },
     "execution_count": 5,
     "metadata": {},
     "output_type": "execute_result"
    }
   ],
   "source": [
    "Y_train"
   ]
  },
  {
   "cell_type": "markdown",
   "id": "76bb9d17",
   "metadata": {},
   "source": [
    "<br>\n",
    "\n",
    "### Neural Network Functions\n",
    "\n",
    "#### `init_params()`\n",
    "\n",
    "- Initializes the parameters of the neural network.\n",
    "\n",
    "#### `ReLU(Z)`\n",
    "\n",
    "- Computes the Rectified Linear Unit (ReLU) activation function.\n",
    "\n",
    "#### `softmax(Z)`\n",
    "\n",
    "- Computes the softmax activation function.\n",
    "\n",
    "#### `forward_prop(W1, b1, W2, b2, X)`\n",
    "\n",
    "- Performs forward propagation through the neural network.\n",
    "\n",
    "#### `ReLU_deriv(Z)`\n",
    "\n",
    "- Computes the derivative of the ReLU activation function.\n",
    "\n",
    "#### `one_hot(Y)`\n",
    "\n",
    "- Converts the labels into one-hot encoded vectors.\n",
    "\n",
    "#### `backward_prop(Z1, A1, Z2, A2, W1, W2, X, Y)`\n",
    "\n",
    "- Performs backward propagation to compute the gradients of the parameters.\n",
    "\n",
    "#### `update_params(W1, b1, W2, b2, dW1, db1, dW2, db2, alpha)`\n",
    "\n",
    "- Updates the parameters of the neural network using gradient descent.\n"
   ]
  },
  {
   "cell_type": "code",
   "execution_count": 6,
   "id": "266a6334",
   "metadata": {},
   "outputs": [],
   "source": [
    "def init_params():\n",
    "    W1 = np.random.rand(10, 784) - 0.5\n",
    "    b1 = np.random.rand(10, 1) - 0.5\n",
    "    W2 = np.random.rand(10, 10) - 0.5\n",
    "    b2 = np.random.rand(10, 1) - 0.5\n",
    "    return W1, b1, W2, b2\n",
    "\n",
    "def ReLU(Z):\n",
    "    return np.maximum(Z, 0)\n",
    "\n",
    "def softmax(Z):\n",
    "    A = np.exp(Z) / sum(np.exp(Z))\n",
    "    return A\n",
    "    \n",
    "def forward_prop(W1, b1, W2, b2, X):\n",
    "    Z1 = W1.dot(X) + b1\n",
    "    A1 = ReLU(Z1)\n",
    "    Z2 = W2.dot(A1) + b2\n",
    "    A2 = softmax(Z2)\n",
    "    return Z1, A1, Z2, A2\n",
    "\n",
    "def ReLU_deriv(Z):\n",
    "    return Z > 0\n",
    "\n",
    "def one_hot(Y):\n",
    "    one_hot_Y = np.zeros((Y.size, Y.max() + 1))\n",
    "    one_hot_Y[np.arange(Y.size), Y] = 1\n",
    "    one_hot_Y = one_hot_Y.T\n",
    "    return one_hot_Y\n",
    "\n",
    "def backward_prop(Z1, A1, Z2, A2, W1, W2, X, Y):\n",
    "    one_hot_Y = one_hot(Y)\n",
    "    dZ2 = A2 - one_hot_Y\n",
    "    dW2 = 1 / m * dZ2.dot(A1.T)\n",
    "    db2 = 1 / m * np.sum(dZ2)\n",
    "    dZ1 = W2.T.dot(dZ2) * ReLU_deriv(Z1)\n",
    "    dW1 = 1 / m * dZ1.dot(X.T)\n",
    "    db1 = 1 / m * np.sum(dZ1)\n",
    "    return dW1, db1, dW2, db2\n",
    "\n",
    "def update_params(W1, b1, W2, b2, dW1, db1, dW2, db2, alpha):\n",
    "    W1 = W1 - alpha * dW1\n",
    "    b1 = b1 - alpha * db1    \n",
    "    W2 = W2 - alpha * dW2  \n",
    "    b2 = b2 - alpha * db2    \n",
    "    return W1, b1, W2, b2"
   ]
  },
  {
   "cell_type": "markdown",
   "id": "334b02b2",
   "metadata": {},
   "source": [
    "<br>\n",
    "\n",
    "### Training Functions\n",
    "\n",
    "#### `get_predictions(A2)`\n",
    "\n",
    "- Computes the predictions of the neural network based on the output of the softmax layer.\n",
    "\n",
    "#### `get_accuracy(predictions, Y)`\n",
    "\n",
    "- Computes the accuracy of the predictions compared to the true labels.\n",
    "\n",
    "#### `gradient_descent(X, Y, alpha, iterations)`\n",
    "\n",
    "- Performs gradient descent to train the neural network parameters.\n"
   ]
  },
  {
   "cell_type": "code",
   "execution_count": 7,
   "id": "2f7f0b61",
   "metadata": {},
   "outputs": [],
   "source": [
    "def get_predictions(A2):\n",
    "    return np.argmax(A2, 0)\n",
    "\n",
    "def get_accuracy(predictions, Y):\n",
    "    print(predictions, Y)\n",
    "    return np.sum(predictions == Y) / Y.size\n",
    "\n",
    "def gradient_descent(X, Y, alpha, iterations):\n",
    "    W1, b1, W2, b2 = init_params()\n",
    "    for i in range(iterations):\n",
    "        Z1, A1, Z2, A2 = forward_prop(W1, b1, W2, b2, X)\n",
    "        dW1, db1, dW2, db2 = backward_prop(Z1, A1, Z2, A2, W1, W2, X, Y)\n",
    "        W1, b1, W2, b2 = update_params(W1, b1, W2, b2, dW1, db1, dW2, db2, alpha)\n",
    "        if i % 10 == 0:\n",
    "            print(\"Iteration: \", i)\n",
    "            predictions = get_predictions(A2)\n",
    "            print(get_accuracy(predictions, Y))\n",
    "    return W1, b1, W2, b2"
   ]
  },
  {
   "cell_type": "markdown",
   "id": "28afb4b9",
   "metadata": {},
   "source": [
    "<br>\n",
    "\n",
    "### Training the Neural Network\n",
    "\n",
    "- Call the `gradient_descent` function to train the neural network parameters (`W1`, `b1`, `W2`, `b2`) using the training data (`X_train`, `Y_train`), a learning rate of 0.10, and 500 iterations.\n"
   ]
  },
  {
   "cell_type": "code",
   "execution_count": 8,
   "id": "62e50618",
   "metadata": {
    "scrolled": false
   },
   "outputs": [
    {
     "name": "stdout",
     "output_type": "stream",
     "text": [
      "Iteration:  0\n",
      "[9 0 0 ... 0 7 0] [6 4 6 ... 5 0 2]\n",
      "0.10909756097560976\n",
      "Iteration:  10\n",
      "[4 0 4 ... 0 8 0] [6 4 6 ... 5 0 2]\n",
      "0.18473170731707317\n",
      "Iteration:  20\n",
      "[4 0 9 ... 0 8 0] [6 4 6 ... 5 0 2]\n",
      "0.2356341463414634\n",
      "Iteration:  30\n",
      "[4 0 0 ... 0 8 0] [6 4 6 ... 5 0 2]\n",
      "0.27402439024390246\n",
      "Iteration:  40\n",
      "[3 4 4 ... 0 8 1] [6 4 6 ... 5 0 2]\n",
      "0.31178048780487805\n",
      "Iteration:  50\n",
      "[3 4 4 ... 5 8 2] [6 4 6 ... 5 0 2]\n",
      "0.3507073170731707\n",
      "Iteration:  60\n",
      "[7 4 4 ... 5 8 2] [6 4 6 ... 5 0 2]\n",
      "0.391\n",
      "Iteration:  70\n",
      "[7 4 4 ... 5 8 2] [6 4 6 ... 5 0 2]\n",
      "0.43617073170731707\n",
      "Iteration:  80\n",
      "[7 4 4 ... 5 8 2] [6 4 6 ... 5 0 2]\n",
      "0.4801951219512195\n",
      "Iteration:  90\n",
      "[7 4 4 ... 5 0 2] [6 4 6 ... 5 0 2]\n",
      "0.5172682926829268\n",
      "Iteration:  100\n",
      "[7 4 4 ... 5 0 2] [6 4 6 ... 5 0 2]\n",
      "0.552\n",
      "Iteration:  110\n",
      "[7 4 4 ... 5 0 2] [6 4 6 ... 5 0 2]\n",
      "0.5817073170731707\n",
      "Iteration:  120\n",
      "[7 4 4 ... 5 0 2] [6 4 6 ... 5 0 2]\n",
      "0.6089268292682927\n",
      "Iteration:  130\n",
      "[9 4 4 ... 5 0 2] [6 4 6 ... 5 0 2]\n",
      "0.6347317073170732\n",
      "Iteration:  140\n",
      "[9 4 4 ... 5 0 2] [6 4 6 ... 5 0 2]\n",
      "0.6577560975609756\n",
      "Iteration:  150\n",
      "[9 4 4 ... 5 0 2] [6 4 6 ... 5 0 2]\n",
      "0.6792682926829269\n",
      "Iteration:  160\n",
      "[9 4 4 ... 5 0 2] [6 4 6 ... 5 0 2]\n",
      "0.6976585365853658\n",
      "Iteration:  170\n",
      "[6 4 4 ... 5 0 2] [6 4 6 ... 5 0 2]\n",
      "0.7119756097560975\n",
      "Iteration:  180\n",
      "[6 4 4 ... 5 0 2] [6 4 6 ... 5 0 2]\n",
      "0.725\n",
      "Iteration:  190\n",
      "[6 4 4 ... 5 0 2] [6 4 6 ... 5 0 2]\n",
      "0.7358048780487805\n",
      "Iteration:  200\n",
      "[6 4 4 ... 5 0 2] [6 4 6 ... 5 0 2]\n",
      "0.7449268292682927\n",
      "Iteration:  210\n",
      "[6 4 6 ... 5 0 2] [6 4 6 ... 5 0 2]\n",
      "0.7537317073170732\n",
      "Iteration:  220\n",
      "[6 4 6 ... 5 0 2] [6 4 6 ... 5 0 2]\n",
      "0.7619512195121951\n",
      "Iteration:  230\n",
      "[6 4 6 ... 5 0 2] [6 4 6 ... 5 0 2]\n",
      "0.7687560975609756\n",
      "Iteration:  240\n",
      "[6 4 6 ... 5 0 2] [6 4 6 ... 5 0 2]\n",
      "0.7748780487804878\n",
      "Iteration:  250\n",
      "[6 4 6 ... 5 0 2] [6 4 6 ... 5 0 2]\n",
      "0.7808780487804878\n",
      "Iteration:  260\n",
      "[6 4 6 ... 5 0 2] [6 4 6 ... 5 0 2]\n",
      "0.7858048780487805\n",
      "Iteration:  270\n",
      "[6 4 6 ... 5 0 2] [6 4 6 ... 5 0 2]\n",
      "0.7899024390243903\n",
      "Iteration:  280\n",
      "[6 4 6 ... 5 0 2] [6 4 6 ... 5 0 2]\n",
      "0.794829268292683\n",
      "Iteration:  290\n",
      "[6 4 6 ... 5 0 2] [6 4 6 ... 5 0 2]\n",
      "0.7993902439024391\n",
      "Iteration:  300\n",
      "[6 4 6 ... 5 0 2] [6 4 6 ... 5 0 2]\n",
      "0.8035365853658537\n",
      "Iteration:  310\n",
      "[6 4 6 ... 5 0 2] [6 4 6 ... 5 0 2]\n",
      "0.8074634146341464\n",
      "Iteration:  320\n",
      "[6 4 6 ... 5 0 2] [6 4 6 ... 5 0 2]\n",
      "0.811\n",
      "Iteration:  330\n",
      "[6 4 6 ... 5 0 2] [6 4 6 ... 5 0 2]\n",
      "0.814170731707317\n",
      "Iteration:  340\n",
      "[6 4 6 ... 5 0 2] [6 4 6 ... 5 0 2]\n",
      "0.8172439024390243\n",
      "Iteration:  350\n",
      "[6 4 6 ... 5 0 2] [6 4 6 ... 5 0 2]\n",
      "0.8202682926829268\n",
      "Iteration:  360\n",
      "[6 4 6 ... 5 0 2] [6 4 6 ... 5 0 2]\n",
      "0.8227560975609756\n",
      "Iteration:  370\n",
      "[6 4 6 ... 5 0 2] [6 4 6 ... 5 0 2]\n",
      "0.8253414634146341\n",
      "Iteration:  380\n",
      "[6 4 6 ... 5 0 2] [6 4 6 ... 5 0 2]\n",
      "0.8275121951219512\n",
      "Iteration:  390\n",
      "[6 4 6 ... 5 0 2] [6 4 6 ... 5 0 2]\n",
      "0.8297317073170731\n",
      "Iteration:  400\n",
      "[6 4 6 ... 5 0 2] [6 4 6 ... 5 0 2]\n",
      "0.8320243902439024\n",
      "Iteration:  410\n",
      "[6 4 6 ... 5 0 2] [6 4 6 ... 5 0 2]\n",
      "0.8338536585365853\n",
      "Iteration:  420\n",
      "[6 4 6 ... 5 0 2] [6 4 6 ... 5 0 2]\n",
      "0.8355853658536585\n",
      "Iteration:  430\n",
      "[6 4 6 ... 5 0 2] [6 4 6 ... 5 0 2]\n",
      "0.8375853658536585\n",
      "Iteration:  440\n",
      "[6 4 6 ... 5 0 2] [6 4 6 ... 5 0 2]\n",
      "0.8392682926829268\n",
      "Iteration:  450\n",
      "[6 4 6 ... 5 0 2] [6 4 6 ... 5 0 2]\n",
      "0.8407317073170731\n",
      "Iteration:  460\n",
      "[6 4 6 ... 5 0 2] [6 4 6 ... 5 0 2]\n",
      "0.842609756097561\n",
      "Iteration:  470\n",
      "[6 4 6 ... 5 0 2] [6 4 6 ... 5 0 2]\n",
      "0.8440243902439024\n",
      "Iteration:  480\n",
      "[6 4 6 ... 5 0 2] [6 4 6 ... 5 0 2]\n",
      "0.8459512195121951\n",
      "Iteration:  490\n",
      "[6 4 6 ... 5 0 2] [6 4 6 ... 5 0 2]\n",
      "0.847780487804878\n"
     ]
    }
   ],
   "source": [
    "W1, b1, W2, b2 = gradient_descent(X_train, Y_train, 0.10, 500)"
   ]
  },
  {
   "cell_type": "markdown",
   "id": "d7cc2b6e",
   "metadata": {},
   "source": [
    "<br>\n",
    "\n",
    "### Prediction Functions\n",
    "\n",
    "#### `make_predictions(X, W1, b1, W2, b2)`\n",
    "\n",
    "- Makes predictions for the given input data using the trained neural network parameters.\n",
    "\n",
    "#### `test_prediction(index, W1, b1, W2, b2)`\n",
    "\n",
    "- Tests the prediction of the neural network for a specific example in the training dataset.\n"
   ]
  },
  {
   "cell_type": "code",
   "execution_count": 9,
   "id": "ae9fabb0",
   "metadata": {},
   "outputs": [],
   "source": [
    "def make_predictions(X, W1, b1, W2, b2):\n",
    "    _, _, _, A2 = forward_prop(W1, b1, W2, b2, X)\n",
    "    predictions = get_predictions(A2)\n",
    "    return predictions\n",
    "\n",
    "def test_prediction(index, W1, b1, W2, b2):\n",
    "    current_image = X_train[:, index, None]\n",
    "    prediction = make_predictions(X_train[:, index, None], W1, b1, W2, b2)\n",
    "    label = Y_train[index]\n",
    "    print(\"Prediction: \", prediction)\n",
    "    print(\"Label: \", label)\n",
    "    \n",
    "    current_image = current_image.reshape((28, 28)) * 255\n",
    "    plt.gray()\n",
    "    plt.imshow(current_image, interpolation='nearest')\n",
    "    plt.show()"
   ]
  },
  {
   "cell_type": "markdown",
   "id": "d42d0f40",
   "metadata": {},
   "source": [
    "<br>\n",
    "\n",
    "### Testing Predictions\n",
    "\n",
    "- Test the predictions of the trained neural network for specific examples in the training dataset using the `test_prediction` function.\n"
   ]
  },
  {
   "cell_type": "code",
   "execution_count": 12,
   "id": "938bd4f8",
   "metadata": {
    "scrolled": false
   },
   "outputs": [
    {
     "name": "stdout",
     "output_type": "stream",
     "text": [
      "Prediction:  [0]\n",
      "Label:  0\n"
     ]
    },
    {
     "data": {
      "image/png": "[encoded data removed]",
      "text/plain": [
       "<Figure size 640x480 with 1 Axes>"
      ]
     },
     "metadata": {},
     "output_type": "display_data"
    },
    {
     "name": "stdout",
     "output_type": "stream",
     "text": [
      "Prediction:  [5]\n",
      "Label:  3\n"
     ]
    },
    {
     "data": {
      "image/png": "[encoded data removed]",
      "text/plain": [
       "<Figure size 640x480 with 1 Axes>"
      ]
     },
     "metadata": {},
     "output_type": "display_data"
    },
    {
     "name": "stdout",
     "output_type": "stream",
     "text": [
      "Prediction:  [6]\n",
      "Label:  6\n"
     ]
    },
    {
     "data": {
      "image/png": "[encoded data removed]",
      "text/plain": [
       "<Figure size 640x480 with 1 Axes>"
      ]
     },
     "metadata": {},
     "output_type": "display_data"
    },
    {
     "name": "stdout",
     "output_type": "stream",
     "text": [
      "Prediction:  [8]\n",
      "Label:  5\n"
     ]
    },
    {
     "data": {
      "image/png": "[encoded data removed]",
      "text/plain": [
       "<Figure size 640x480 with 1 Axes>"
      ]
     },
     "metadata": {},
     "output_type": "display_data"
    }
   ],
   "source": [
    "test_prediction(50, W1, b1, W2, b2)\n",
    "test_prediction(150, W1, b1, W2, b2)\n",
    "test_prediction(250, W1, b1, W2, b2)\n",
    "test_prediction(350, W1, b1, W2, b2)"
   ]
  },
  {
   "cell_type": "markdown",
   "id": "3d0e7dd9",
   "metadata": {},
   "source": [
    "<br>\n",
    "\n",
    "### Testing Predictions\n",
    "\n",
    "- Compute the accuracy of the predictions made by the trained neural network on the testing dataset using the `get_accuracy` function.\n"
   ]
  },
  {
   "cell_type": "code",
   "execution_count": 11,
   "id": "6da8df6c",
   "metadata": {},
   "outputs": [
    {
     "name": "stdout",
     "output_type": "stream",
     "text": [
      "[3 6 5 9 2 0 1 6 6 2 7 4 1 0 0 2 3 3 1 4 9 0 8 4 7 2 7 3 4 0 4 4 6 8 5 2 2\n",
      " 7 1 1 5 4 2 5 0 7 0 5 3 0 3 1 0 7 0 2 1 2 0 7 4 6 9 4 5 5 8 8 3 1 0 2 2 8\n",
      " 7 8 1 2 5 9 7 0 5 5 9 1 0 3 0 6 4 3 5 1 1 2 0 9 5 8 9 4 4 6 1 8 7 1 7 7 3\n",
      " 1 9 9 6 9 2 9 2 2 6 1 7 0 2 6 7 9 2 5 3 1 1 9 3 0 2 2 2 3 5 4 2 5 3 9 0 2\n",
      " 8 4 8 1 3 2 2 2 3 2 9 5 4 8 0 8 2 1 6 1 3 2 9 7 3 9 6 2 0 9 5 1 7 8 3 4 9\n",
      " 8 6 8 2 0 6 4 4 2 0 7 7 8 2 9 3 3 8 1 2 2 9 6 7 6 9 0 8 2 1 5 9 5 3 9 1 1\n",
      " 1 3 3 8 8 4 1 1 5 1 6 8 8 4 5 8 1 9 7 7 5 4 4 0 3 2 2 4 5 6 6 7 1 0 0 6 8\n",
      " 8 3 2 6 8 5 0 3 2 7 7 5 8 6 7 1 3 1 8 7 0 9 7 2 6 5 2 4 5 1 8 7 8 8 8 0 9\n",
      " 2 4 7 8 5 0 7 3 9 9 6 0 7 6 6 8 7 3 2 4 5 1 2 0 4 3 1 2 6 8 7 3 0 3 8 3 2\n",
      " 8 7 9 1 1 2 4 7 8 8 1 1 1 9 7 1 4 1 3 1 2 9 0 4 0 8 9 1 8 9 3 4 0 9 2 7 4\n",
      " 3 5 8 5 6 3 0 5 4 9 1 5 7 2 7 1 7 3 5 4 4 7 3 8 9 0 0 0 9 4 6 4 7 1 3 0 9\n",
      " 6 4 1 2 4 9 6 4 9 2 4 7 9 2 8 2 4 6 3 8 9 3 6 6 0 8 3 9 2 2 5 7 8 7 3 3 0\n",
      " 9 4 6 6 1 8 1 7 4 5 6 2 6 3 7 3 9 6 8 2 6 1 6 2 2 1 2 0 0 2 8 6 4 4 1 7 1\n",
      " 4 9 3 2 2 6 5 4 2 1 2 7 4 2 5 5 6 3 3 5 5 3 4 9 0 1 0 9 8 8 4 8 1 4 8 4 2\n",
      " 6 5 1 9 4 6 9 5 6 7 1 1 0 2 8 6 4 7 8 6 4 3 3 0 5 8 6 6 9 4 5 9 0 5 0 1 4\n",
      " 4 9 7 2 0 3 9 0 9 4 9 9 6 8 7 1 7 3 3 9 1 9 0 3 1 3 4 2 8 1 7 9 7 5 4 7 3\n",
      " 0 2 6 7 6 9 9 1 6 2 5 2 8 2 8 0 3 7 5 8 6 2 2 8 1 2 2 8 1 6 2 6 0 5 9 1 0\n",
      " 5 2 4 1 1 7 7 7 3 4 7 1 7 6 8 6 5 7 6 0 5 3 6 1 4 8 1 1 2 2 7 0 1 9 8 7 9\n",
      " 2 3 3 0 1 7 2 1 5 8 6 1 1 1 6 0 1 8 4 2 7 2 8 1 0 2 6 3 5 9 5 7 6 4 3 1 4\n",
      " 1 4 0 4 6 5 0 8 3 9 1 9 4 9 7 7 7 8 1 7 2 4 5 7 9 6 9 1 3 5 5 8 7 7 8 5 6\n",
      " 3 4 4 0 7 3 0 0 1 0 2 0 3 9 9 2 4 9 9 4 6 5 8 8 5 4 7 4 6 2 9 4 0 3 8 8 9\n",
      " 9 5 1 2 7 8 7 6 5 6 8 9 8 5 2 3 1 6 2 6 5 1 5 4 4 2 7 3 4 6 6 9 9 8 0 5 9\n",
      " 1 4 8 8 1 4 1 5 7 0 1 9 7 8 7 2 5 9 0 2 4 1 4 6 3 8 7 9 4 9 9 8 3 2 3 6 2\n",
      " 7 5 3 4 6 4 1 3 0 8 6 6 3 9 8 0 9 0 3 4 7 0 8 4 4 3 8 7 5 5 6 9 5 5 8 9 7\n",
      " 0 2 6 4 6 3 2 9 8 0 7 6 6 5 3 0 6 3 7 4 8 6 7 1 8 3 1 6 6 8 5 3 5 8 3 7 5\n",
      " 2 7 2 1 9 5 7 4 8 7 6 9 5 5 2 6 9 2 7 8 9 1 4 7 3 4 8 2 7 3 0 6 0 5 1 3 6\n",
      " 7 0 1 7 6 3 8 1 5 6 5 6 1 7 9 7 7 6 6 1 3 8 7 9 2 6 9 5 2 1 1 2 5 3 1 3 3\n",
      " 7] [3 6 8 9 2 0 1 4 6 2 7 4 1 0 0 5 3 3 1 4 9 0 8 4 7 3 7 3 4 0 4 7 6 8 5 2 2\n",
      " 9 1 1 5 7 2 5 0 7 0 5 3 0 3 1 0 7 0 2 1 2 0 7 9 6 8 4 5 5 2 8 3 1 0 2 7 0\n",
      " 7 8 1 2 5 9 7 0 5 5 9 1 0 3 6 6 4 3 8 1 1 2 0 9 3 8 9 4 9 6 2 8 7 1 7 7 3\n",
      " 1 9 9 6 9 2 9 2 3 5 7 7 0 7 6 7 7 2 5 3 1 1 7 3 0 0 5 6 3 5 4 2 5 3 9 0 2\n",
      " 3 7 8 1 3 8 1 2 3 2 9 5 4 2 0 8 2 1 6 1 3 2 9 7 3 9 6 2 0 9 5 1 7 8 3 4 9\n",
      " 8 6 8 2 0 6 9 4 2 0 7 7 8 2 9 3 3 8 1 9 2 9 6 7 4 9 0 8 2 1 5 8 5 3 9 1 1\n",
      " 1 8 3 8 8 4 5 1 5 1 6 8 8 4 5 8 3 9 7 7 3 4 4 0 3 2 2 4 5 6 6 7 1 0 0 6 8\n",
      " 8 3 2 6 8 5 0 3 2 7 2 5 8 6 7 1 3 1 8 7 0 4 7 8 6 5 2 4 5 1 8 7 2 8 8 0 4\n",
      " 3 4 7 8 5 0 7 3 7 9 4 0 7 6 6 8 7 3 2 4 1 1 2 0 4 3 1 2 6 8 7 3 0 5 3 8 2\n",
      " 0 7 7 1 1 2 4 9 8 8 1 1 1 9 7 1 4 1 3 1 9 4 0 4 0 8 9 1 8 7 3 4 0 9 2 7 4\n",
      " 3 5 8 5 6 3 0 5 9 9 1 5 7 2 7 1 7 8 5 4 4 7 2 6 9 0 0 0 9 4 6 4 7 1 8 0 9\n",
      " 6 4 2 2 4 8 6 4 9 2 6 7 9 2 8 2 4 6 3 8 9 3 6 6 0 8 5 9 2 2 5 7 8 7 8 3 0\n",
      " 8 4 6 2 1 8 1 9 4 9 6 2 6 3 7 3 4 6 5 2 6 1 6 2 2 1 2 0 0 2 8 4 4 4 1 7 1\n",
      " 4 9 3 2 2 6 5 4 2 1 2 7 4 2 5 5 6 3 3 5 5 9 8 9 0 1 0 9 8 8 4 8 1 4 8 4 2\n",
      " 6 5 1 9 4 6 9 5 6 7 1 1 0 2 8 6 4 7 8 6 4 5 3 0 0 8 6 6 9 7 6 9 0 5 0 1 4\n",
      " 4 7 7 2 0 3 9 0 9 4 9 9 6 8 9 1 7 3 5 4 1 4 0 3 1 3 4 2 2 1 7 9 7 5 4 7 3\n",
      " 0 2 6 7 6 9 9 1 6 3 8 2 8 3 3 8 3 7 5 8 3 2 8 8 1 2 2 2 1 2 2 8 0 5 9 1 0\n",
      " 5 2 4 1 1 7 7 7 3 4 7 1 7 6 8 6 5 7 6 0 5 3 6 1 2 8 1 1 9 2 7 0 1 4 8 7 9\n",
      " 2 3 3 0 1 7 2 1 5 5 6 1 1 1 6 0 1 8 9 3 7 2 5 1 0 2 6 3 5 7 8 7 6 4 3 1 4\n",
      " 2 4 0 4 6 5 0 3 3 9 1 9 4 9 7 7 7 8 5 7 2 4 5 7 9 6 9 1 3 5 5 8 7 7 8 5 6\n",
      " 3 4 4 0 7 3 0 0 1 0 2 0 3 9 7 8 4 7 9 4 6 5 8 8 3 4 7 4 6 8 7 4 0 3 8 8 9\n",
      " 4 5 1 2 7 2 7 6 5 5 8 9 8 5 2 7 4 6 2 6 5 1 5 4 4 2 7 3 4 6 5 9 9 8 0 5 9\n",
      " 1 4 8 8 1 4 1 5 7 0 1 3 7 8 7 7 0 9 0 2 4 1 9 6 3 8 7 4 4 9 9 8 3 2 3 2 3\n",
      " 7 5 3 4 6 4 1 3 0 8 4 8 2 9 8 0 9 0 3 4 7 6 4 4 4 3 8 9 5 8 8 9 6 5 8 9 7\n",
      " 0 4 6 4 6 3 2 9 8 0 7 6 6 5 3 0 6 3 7 4 8 6 7 8 8 8 1 6 6 8 5 3 5 4 3 7 6\n",
      " 4 7 2 1 9 5 2 4 8 7 6 9 5 5 2 6 9 2 7 4 4 1 7 7 3 4 8 2 7 3 0 6 0 5 1 3 6\n",
      " 7 0 1 7 6 3 8 1 5 6 5 6 1 7 9 7 7 6 8 1 8 8 7 8 2 6 9 0 2 1 1 2 5 3 1 3 3\n",
      " 7]\n"
     ]
    },
    {
     "data": {
      "text/plain": [
       "0.85"
      ]
     },
     "execution_count": 11,
     "metadata": {},
     "output_type": "execute_result"
    }
   ],
   "source": [
    "test_predictions = make_predictions(X_test, W1, b1, W2, b2)\n",
    "get_accuracy(test_predictions, Y_test)"
   ]
  }
 ],
 "metadata": {
  "kernelspec": {
   "display_name": "Python 3 (ipykernel)",
   "language": "python",
   "name": "python3"
  },
  "language_info": {
   "codemirror_mode": {
    "name": "ipython",
    "version": 3
   },
   "file_extension": ".py",
   "mimetype": "text/x-python",
   "name": "python",
   "nbconvert_exporter": "python",
   "pygments_lexer": "ipython3",
   "version": "3.11.2"
  }
 },
 "nbformat": 4,
 "nbformat_minor": 5
}
